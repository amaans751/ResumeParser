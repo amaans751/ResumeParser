{
 "cells": [
  {
   "cell_type": "code",
   "execution_count": 6,
   "id": "149b6c47",
   "metadata": {},
   "outputs": [],
   "source": [
    "#!pip install nltk"
   ]
  },
  {
   "cell_type": "code",
   "execution_count": 7,
   "id": "58fe5571",
   "metadata": {},
   "outputs": [],
   "source": [
    "import nltk\n",
    "from nltk.tokenize import word_tokenize\n",
    "from nltk.corpus import stopwords\n",
    "from nltk.stem import PorterStemmer\n",
    "from nltk.metrics import jaccard_distance"
   ]
  },
  {
   "cell_type": "code",
   "execution_count": 8,
   "id": "421f9356",
   "metadata": {},
   "outputs": [
    {
     "name": "stderr",
     "output_type": "stream",
     "text": [
      "[nltk_data] Downloading package punkt to C:\\Users\\Amaan\n",
      "[nltk_data]     Shaikh\\AppData\\Roaming\\nltk_data...\n",
      "[nltk_data]   Package punkt is already up-to-date!\n",
      "[nltk_data] Downloading package stopwords to C:\\Users\\Amaan\n",
      "[nltk_data]     Shaikh\\AppData\\Roaming\\nltk_data...\n",
      "[nltk_data]   Package stopwords is already up-to-date!\n"
     ]
    },
    {
     "data": {
      "text/plain": [
       "True"
      ]
     },
     "execution_count": 8,
     "metadata": {},
     "output_type": "execute_result"
    }
   ],
   "source": [
    "nltk.download('punkt')\n",
    "nltk.download('stopwords')"
   ]
  },
  {
   "cell_type": "code",
   "execution_count": 9,
   "id": "d8794351",
   "metadata": {},
   "outputs": [],
   "source": [
    "def preprocess(text):\n",
    "    tokens = word_tokenize(text.lower())\n",
    "    \n",
    "    stop_words = set(stopwords.words('english'))\n",
    "    tokens = [token for token in tokens if token not in stop_words]\n",
    "    \n",
    "    stemmer = PorterStemmer()\n",
    "    tokens = [stemmer.stem(token) for token in tokens]\n",
    "    \n",
    "    return tokens"
   ]
  },
  {
   "cell_type": "code",
   "execution_count": 10,
   "id": "17536847",
   "metadata": {},
   "outputs": [],
   "source": [
    "def find_best_candidate(job_description, candidate_profiles):\n",
    "    job_keywords = set(preprocess(job_description))\n",
    "    \n",
    "    best_candidate = None\n",
    "    best_match_score = 0\n",
    "    \n",
    "    for candidate_num, candidate_profile in candidate_profiles:\n",
    "        profile_keywords = set(preprocess(candidate_profile))\n",
    "        common_keywords = job_keywords.intersection(profile_keywords)\n",
    "        match_score = 1 - jaccard_distance(job_keywords, profile_keywords)\n",
    "        \n",
    "        if match_score > best_match_score:\n",
    "            best_candidate = candidate_num\n",
    "            best_match_score = match_score\n",
    "    \n",
    "    return best_candidate"
   ]
  },
  {
   "cell_type": "code",
   "execution_count": 11,
   "id": "2bf4c64c",
   "metadata": {},
   "outputs": [
    {
     "name": "stdout",
     "output_type": "stream",
     "text": [
      "Please enter the number of candidate profiles: 4\n",
      "Please enter the candidate profile #1:\n",
      "I like to read books!\n",
      "Please enter the candidate profile #2:\n",
      "I am an avid programmer in Python, HTML, and Flask\n",
      "Please enter the candidate profile #3:\n",
      "I code in Java and like to make apps!\n",
      "Please enter the candidate profile #4:\n",
      "I am good with excel.\n",
      "\n",
      "Results:\n",
      "Best candidate for the job: Candidate 2\n"
     ]
    }
   ],
   "source": [
    "job_description = \"\"\"\n",
    "We are looking for a Python developer with experience in web application development, machine learning, and natural language processing. Strong knowledge of NLTK, Flask, and\n",
    "scikit-learn is desirable.\n",
    "\"\"\"\n",
    "\n",
    "num_candidates = int(input(\"Please enter the number of candidate profiles: \"))\n",
    "candidate_profiles = []\n",
    "\n",
    "for i in range(num_candidates):\n",
    "    print(f\"Please enter the candidate profile #{i + 1}:\")\n",
    "    candidate_profile_input = input()\n",
    "    candidate_profiles.append((f\"Candidate {i + 1}\", candidate_profile_input))\n",
    "\n",
    "best_candidate = find_best_candidate(job_description, candidate_profiles)\n",
    "\n",
    "print(\"\\nResults:\")\n",
    "print(f\"Best candidate for the job: {best_candidate}\")\n",
    "\n",
    "#Made by Mohammed Amaan Shaikh"
   ]
  }
 ],
 "metadata": {
  "kernelspec": {
   "display_name": "Python 3 (ipykernel)",
   "language": "python",
   "name": "python3"
  },
  "language_info": {
   "codemirror_mode": {
    "name": "ipython",
    "version": 3
   },
   "file_extension": ".py",
   "mimetype": "text/x-python",
   "name": "python",
   "nbconvert_exporter": "python",
   "pygments_lexer": "ipython3",
   "version": "3.9.13"
  }
 },
 "nbformat": 4,
 "nbformat_minor": 5
}
